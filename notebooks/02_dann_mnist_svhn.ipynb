{
 "cells": [
  {
   "cell_type": "code",
   "source": [
    "!git clone https://github.com/chickowar/6-sem-CV-dz-4"
   ],
   "metadata": {
    "id": "fdLXbUa1iNQ8",
    "outputId": "997859dc-8dc0-4cbf-9ad2-9b2d3212b680",
    "colab": {
     "base_uri": "https://localhost:8080/"
    }
   },
   "id": "fdLXbUa1iNQ8",
   "outputs": [],
   "execution_count": null
  },
  {
   "cell_type": "code",
   "source": [
    "%cd 6-sem-CV-dz-4/"
   ],
   "metadata": {
    "id": "WgOL3feiiSLX",
    "outputId": "346f9578-cc11-4ce3-de8f-d42f5000fdbd",
    "colab": {
     "base_uri": "https://localhost:8080/"
    }
   },
   "id": "WgOL3feiiSLX",
   "outputs": [],
   "execution_count": null
  },
  {
   "cell_type": "code",
   "source": [
    "import sys\n",
    "sys.path.append('./src') # чтобы он видел модуль src"
   ],
   "metadata": {
    "id": "TZyp7ZnMicIF"
   },
   "id": "TZyp7ZnMicIF",
   "outputs": [],
   "execution_count": null
  },
  {
   "cell_type": "code",
   "id": "initial_id",
   "metadata": {
    "collapsed": true,
    "id": "initial_id",
    "outputId": "21268eee-088f-4fa2-d56d-78fcedf6abf5",
    "colab": {
     "base_uri": "https://localhost:8080/"
    }
   },
   "source": [
    "from src.datasets import get_mnist, get_svhn\n",
    "from src.dann_model import FeatureExtractor, LabelClassifier, DomainDiscriminator\n",
    "from src.dann_train import train_dann\n",
    "from src.train_eval import evaluate\n",
    "import torch\n",
    "import torch.optim as optim\n",
    "import torch.nn as nn\n",
    "\n",
    "device = torch.device(\"cuda\" if torch.cuda.is_available() else \"cpu\")\n",
    "device"
   ],
   "outputs": [],
   "execution_count": null
  },
  {
   "metadata": {
    "id": "3d1a0d6a817e42b2"
   },
   "cell_type": "markdown",
   "source": [
    "# Загрузка датасетов и модельки"
   ],
   "id": "3d1a0d6a817e42b2"
  },
  {
   "cell_type": "code",
   "source": [
    "source_loader = get_mnist(train=True)\n",
    "target_loader = get_svhn()\n",
    "source_test = get_mnist(train=False)\n",
    "target_test = get_svhn()"
   ],
   "metadata": {
    "id": "IzaPc_qijCJd"
   },
   "id": "IzaPc_qijCJd",
   "outputs": [],
   "execution_count": null
  },
  {
   "metadata": {},
   "cell_type": "code",
   "source": [
    "F = FeatureExtractor()\n",
    "C = LabelClassifier()\n",
    "D = DomainDiscriminator()"
   ],
   "id": "b91bd4e05e716e5f",
   "outputs": [],
   "execution_count": null
  },
  {
   "metadata": {},
   "cell_type": "markdown",
   "source": "# Обучение",
   "id": "24d3c163856597b2"
  },
  {
   "metadata": {},
   "cell_type": "code",
   "source": [
    "def alpha_schedule(epoch, step, max_epoch=10, max_step=500):\n",
    "    p = float(epoch * max_step + step) / (max_epoch * max_step)\n",
    "    return 2. / (1. + torch.exp(-10 * p)) - 1"
   ],
   "id": "79ab9d71faf1962a",
   "outputs": [],
   "execution_count": null
  },
  {
   "metadata": {},
   "cell_type": "code",
   "source": [
    "train_dann(F, C, D, source_loader, target_loader, device,\n",
    "           epochs=10, alpha_schedule=lambda e, i: alpha_schedule(e, i))"
   ],
   "id": "1524825bdcc02202",
   "outputs": [],
   "execution_count": null
  },
  {
   "metadata": {},
   "cell_type": "markdown",
   "source": "# Оценка",
   "id": "d56582472238b424"
  },
  {
   "metadata": {},
   "cell_type": "code",
   "source": [
    "print(\"Eval on Source (MNIST):\")\n",
    "evaluate(nn.Sequential(F, C), source_test, device)"
   ],
   "id": "549f836f0d5a74c0",
   "outputs": [],
   "execution_count": null
  },
  {
   "metadata": {},
   "cell_type": "code",
   "source": [
    "print(\"Eval on Target (SVHN):\")\n",
    "evaluate(nn.Sequential(F, C), target_test, device)"
   ],
   "id": "ba9ed5271a4ff90c",
   "outputs": [],
   "execution_count": null
  }
 ],
 "metadata": {
  "kernelspec": {
   "display_name": "Python 3",
   "name": "python3"
  },
  "language_info": {
   "codemirror_mode": {
    "name": "ipython",
    "version": 2
   },
   "file_extension": ".py",
   "mimetype": "text/x-python",
   "name": "python",
   "nbconvert_exporter": "python",
   "pygments_lexer": "ipython2",
   "version": "2.7.6"
  },
  "colab": {
   "provenance": [],
   "gpuType": "T4"
  },
  "accelerator": "GPU"
 },
 "nbformat": 4,
 "nbformat_minor": 5
}
