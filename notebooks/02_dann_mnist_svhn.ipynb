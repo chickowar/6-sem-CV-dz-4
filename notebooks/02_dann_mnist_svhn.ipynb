{
  "cells": [
    {
      "cell_type": "code",
      "source": [
        "!git clone https://github.com/chickowar/6-sem-CV-dz-4"
      ],
      "metadata": {
        "id": "fdLXbUa1iNQ8",
        "outputId": "f2543f31-3538-45e4-99da-fc4cfd14d687",
        "colab": {
          "base_uri": "https://localhost:8080/"
        }
      },
      "id": "fdLXbUa1iNQ8",
      "outputs": [
        {
          "output_type": "stream",
          "name": "stdout",
          "text": [
            "Cloning into '6-sem-CV-dz-4'...\n",
            "remote: Enumerating objects: 39, done.\u001b[K\n",
            "remote: Counting objects: 100% (39/39), done.\u001b[K\n",
            "remote: Compressing objects: 100% (31/31), done.\u001b[K\n",
            "remote: Total 39 (delta 15), reused 24 (delta 5), pack-reused 0 (from 0)\u001b[K\n",
            "Receiving objects: 100% (39/39), 13.35 KiB | 6.68 MiB/s, done.\n",
            "Resolving deltas: 100% (15/15), done.\n"
          ]
        }
      ],
      "execution_count": 1
    },
    {
      "cell_type": "code",
      "source": [
        "%cd 6-sem-CV-dz-4/"
      ],
      "metadata": {
        "id": "WgOL3feiiSLX",
        "outputId": "5c713f61-21fc-4c3c-d9ee-ddbcd5faeed6",
        "colab": {
          "base_uri": "https://localhost:8080/"
        }
      },
      "id": "WgOL3feiiSLX",
      "outputs": [
        {
          "output_type": "stream",
          "name": "stdout",
          "text": [
            "/content/6-sem-CV-dz-4\n"
          ]
        }
      ],
      "execution_count": 2
    },
    {
      "cell_type": "code",
      "source": [
        "import sys\n",
        "sys.path.append('./src') # чтобы он видел модуль src"
      ],
      "metadata": {
        "id": "TZyp7ZnMicIF"
      },
      "id": "TZyp7ZnMicIF",
      "outputs": [],
      "execution_count": 3
    },
    {
      "cell_type": "code",
      "id": "initial_id",
      "metadata": {
        "collapsed": true,
        "id": "initial_id",
        "outputId": "ade8204e-09af-4dc1-fcc2-f6e4bee1271a",
        "colab": {
          "base_uri": "https://localhost:8080/"
        }
      },
      "source": [
        "from src.datasets import get_mnist, get_svhn\n",
        "from src.dann_model import FeatureExtractor, LabelClassifier, DomainDiscriminator\n",
        "from src.dann_train import train_dann, alpha_schedule\n",
        "from src.train_eval import evaluate\n",
        "import torch\n",
        "import torch.optim as optim\n",
        "import torch.nn as nn\n",
        "\n",
        "device = torch.device(\"cuda\" if torch.cuda.is_available() else \"cpu\")\n",
        "device"
      ],
      "outputs": [
        {
          "output_type": "execute_result",
          "data": {
            "text/plain": [
              "device(type='cuda')"
            ]
          },
          "metadata": {},
          "execution_count": 4
        }
      ],
      "execution_count": 4
    },
    {
      "cell_type": "markdown",
      "source": [
        "# мокаем загрузку из github, потому что мне впадлу"
      ],
      "metadata": {
        "id": "zxLXSvTSxxsy"
      },
      "id": "zxLXSvTSxxsy"
    },
    {
      "cell_type": "code",
      "source": [
        "from tqdm import tqdm"
      ],
      "metadata": {
        "id": "xCFazAOhyDEF"
      },
      "id": "xCFazAOhyDEF",
      "execution_count": 23,
      "outputs": []
    },
    {
      "cell_type": "code",
      "source": [
        "def train_dann(\n",
        "    feature_extractor,\n",
        "    label_classifier,\n",
        "    domain_discriminator,\n",
        "    source_loader,\n",
        "    target_loader,\n",
        "    device,\n",
        "    epochs=10,\n",
        "    alpha_schedule=None,\n",
        "    lambda_domain=1.0,  # добавим вес\n",
        "    batch_size = 128,\n",
        "    evaluate_fn = None,\n",
        "    target_test_loader = None,\n",
        "):\n",
        "    feature_extractor.to(device)\n",
        "    label_classifier.to(device)\n",
        "    domain_discriminator.to(device)\n",
        "\n",
        "    optimizer_F = torch.optim.Adam(feature_extractor.parameters(), lr=1e-4)\n",
        "    optimizer_C = torch.optim.Adam(label_classifier.parameters(), lr=1e-4)\n",
        "    optimizer_D = torch.optim.Adam(domain_discriminator.parameters(), lr=1e-4)\n",
        "\n",
        "    cls_criterion = nn.CrossEntropyLoss()\n",
        "    domain_criterion = nn.BCEWithLogitsLoss()\n",
        "\n",
        "    max_step = len(source_loader)\n",
        "\n",
        "    target_accs = []  # сюда будем писать accuracy по target_test\n",
        "\n",
        "    for epoch in range(epochs):\n",
        "        feature_extractor.train()\n",
        "        label_classifier.train()\n",
        "        domain_discriminator.train()\n",
        "\n",
        "        total_cls_loss = 0\n",
        "        total_domain_loss = 0\n",
        "\n",
        "        for step, ((src_x, src_y), (tgt_x, _)) in enumerate(tqdm(zip(source_loader, target_loader), total=max_step, desc=f\"Epoch {epoch+1}\")):\n",
        "            src_x, src_y = src_x.to(device), src_y.to(device)\n",
        "            tgt_x = tgt_x.to(device)\n",
        "\n",
        "            src_bs = src_x.size(0)\n",
        "            tgt_bs = tgt_x.size(0)\n",
        "            all_x = torch.cat([src_x, tgt_x], dim=0)\n",
        "\n",
        "            alpha = alpha_schedule(epoch, step, max_epoch=epochs, max_step=max_step)\n",
        "            if step == 0:\n",
        "                print(f\"[Epoch {epoch+1}] alpha = {alpha:.3f}\")\n",
        "\n",
        "            features = feature_extractor(all_x)\n",
        "            class_preds = label_classifier(features[:src_bs])\n",
        "            domain_preds = domain_discriminator(features, alpha)\n",
        "\n",
        "            domain_src = torch.ones((src_bs, 1)).to(device)\n",
        "            domain_tgt = torch.zeros((tgt_bs, 1)).to(device)\n",
        "\n",
        "            loss_cls = cls_criterion(class_preds, src_y)\n",
        "            loss_domain = domain_criterion(domain_preds[:src_bs], domain_src) + \\\n",
        "                          domain_criterion(domain_preds[src_bs:], domain_tgt)\n",
        "\n",
        "            loss = loss_cls + lambda_domain * loss_domain\n",
        "\n",
        "            optimizer_F.zero_grad()\n",
        "            optimizer_C.zero_grad()\n",
        "            optimizer_D.zero_grad()\n",
        "\n",
        "            loss.backward()\n",
        "            optimizer_F.step()\n",
        "            optimizer_C.step()\n",
        "            optimizer_D.step()\n",
        "\n",
        "            total_cls_loss += loss_cls.item()\n",
        "            total_domain_loss += loss_domain.item()\n",
        "\n",
        "        print(f\"Epoch {epoch+1}: loss_cls={total_cls_loss/max_step:.4f} | loss_domain={total_domain_loss/max_step:.4f}\")\n",
        "\n",
        "        # evaluate на целевом тесте\n",
        "        if evaluate_fn is not None and target_test_loader is not None:\n",
        "            model = nn.Sequential(feature_extractor, label_classifier)\n",
        "            acc = evaluate_fn(model, target_test_loader, device)\n",
        "            print(f\"Epoch {epoch+1}: target_test accuracy = {acc:.4f}\")\n",
        "            target_accs.append(acc)\n",
        "\n",
        "    return target_accs\n"
      ],
      "metadata": {
        "id": "COk-_nJBx3LZ"
      },
      "id": "COk-_nJBx3LZ",
      "execution_count": 39,
      "outputs": []
    },
    {
      "metadata": {
        "id": "3d1a0d6a817e42b2"
      },
      "cell_type": "markdown",
      "source": [
        "# Загрузка датасетов и модельки"
      ],
      "id": "3d1a0d6a817e42b2"
    },
    {
      "cell_type": "code",
      "source": [
        "source_loader = get_mnist(train=True)\n",
        "target_loader = get_svhn()\n",
        "source_test = get_mnist(train=False)\n",
        "target_test = get_svhn()"
      ],
      "metadata": {
        "id": "IzaPc_qijCJd"
      },
      "id": "IzaPc_qijCJd",
      "outputs": [],
      "execution_count": 30
    },
    {
      "metadata": {
        "id": "b91bd4e05e716e5f"
      },
      "cell_type": "code",
      "source": [
        "F = FeatureExtractor()\n",
        "C = LabelClassifier()\n",
        "D = DomainDiscriminator()"
      ],
      "id": "b91bd4e05e716e5f",
      "outputs": [],
      "execution_count": 40
    },
    {
      "metadata": {
        "id": "24d3c163856597b2"
      },
      "cell_type": "markdown",
      "source": [
        "# Обучение"
      ],
      "id": "24d3c163856597b2"
    },
    {
      "cell_type": "code",
      "source": [
        "import numpy as np\n",
        "import matplotlib.pyplot as plt\n",
        "\n",
        "def alpha_schedule(epoch, step, max_epoch=15, max_step=500, k=5.0):\n",
        "    \"\"\"Более плавный рост alpha.\"\"\"\n",
        "    p = float(epoch * max_step + step) / (max_epoch * max_step)\n",
        "    return 2. / (1. + np.exp(-k * p)) - 1\n"
      ],
      "metadata": {
        "id": "VYQawuYHxD5s"
      },
      "id": "VYQawuYHxD5s",
      "execution_count": 59,
      "outputs": []
    },
    {
      "cell_type": "markdown",
      "source": [
        "## lambda_domain = 0.3"
      ],
      "metadata": {
        "id": "jiDTNjFK83s_"
      },
      "id": "jiDTNjFK83s_"
    },
    {
      "cell_type": "code",
      "source": [
        "target_accs = train_dann(\n",
        "    F, C, D,\n",
        "    source_loader, target_loader,\n",
        "    device,\n",
        "    epochs=15,\n",
        "    alpha_schedule=alpha_schedule,\n",
        "    lambda_domain=0.3,\n",
        "    evaluate_fn = evaluate, target_test_loader=target_test\n",
        "\n",
        ")"
      ],
      "metadata": {
        "id": "0bNw1A6F8rtC",
        "outputId": "3f15f84e-204e-4ad6-adbf-1d2e34dd8ab7",
        "colab": {
          "base_uri": "https://localhost:8080/"
        }
      },
      "id": "0bNw1A6F8rtC",
      "execution_count": 60,
      "outputs": [
        {
          "output_type": "stream",
          "name": "stderr",
          "text": [
            "Epoch 1:   0%|          | 2/469 [00:00<00:35, 13.19it/s]"
          ]
        },
        {
          "output_type": "stream",
          "name": "stdout",
          "text": [
            "[Epoch 1] alpha = 0.000\n"
          ]
        },
        {
          "output_type": "stream",
          "name": "stderr",
          "text": [
            "Epoch 1:  43%|████▎     | 204/469 [00:15<00:19, 13.49it/s]\n"
          ]
        },
        {
          "output_type": "stream",
          "name": "stdout",
          "text": [
            "Epoch 1: loss_cls=0.0151 | loss_domain=0.0393\n",
            "Accuracy: 30.30%\n",
            "Epoch 1: target_test accuracy = 30.3012\n"
          ]
        },
        {
          "output_type": "stream",
          "name": "stderr",
          "text": [
            "Epoch 2:   0%|          | 2/469 [00:00<00:33, 14.12it/s]"
          ]
        },
        {
          "output_type": "stream",
          "name": "stdout",
          "text": [
            "[Epoch 2] alpha = 0.165\n"
          ]
        },
        {
          "output_type": "stream",
          "name": "stderr",
          "text": [
            "Epoch 2:  43%|████▎     | 204/469 [00:15<00:19, 13.39it/s]\n"
          ]
        },
        {
          "output_type": "stream",
          "name": "stdout",
          "text": [
            "Epoch 2: loss_cls=0.0129 | loss_domain=0.0110\n",
            "Accuracy: 28.11%\n",
            "Epoch 2: target_test accuracy = 28.1077\n"
          ]
        },
        {
          "output_type": "stream",
          "name": "stderr",
          "text": [
            "Epoch 3:   0%|          | 2/469 [00:00<00:43, 10.73it/s]"
          ]
        },
        {
          "output_type": "stream",
          "name": "stdout",
          "text": [
            "[Epoch 3] alpha = 0.322\n"
          ]
        },
        {
          "output_type": "stream",
          "name": "stderr",
          "text": [
            "Epoch 3:  43%|████▎     | 204/469 [00:15<00:20, 13.16it/s]\n"
          ]
        },
        {
          "output_type": "stream",
          "name": "stdout",
          "text": [
            "Epoch 3: loss_cls=0.0115 | loss_domain=0.0147\n",
            "Accuracy: 27.05%\n",
            "Epoch 3: target_test accuracy = 27.0513\n"
          ]
        },
        {
          "output_type": "stream",
          "name": "stderr",
          "text": [
            "Epoch 4:   0%|          | 2/469 [00:00<00:32, 14.18it/s]"
          ]
        },
        {
          "output_type": "stream",
          "name": "stdout",
          "text": [
            "[Epoch 4] alpha = 0.462\n"
          ]
        },
        {
          "output_type": "stream",
          "name": "stderr",
          "text": [
            "Epoch 4:  43%|████▎     | 204/469 [00:15<00:20, 12.80it/s]\n"
          ]
        },
        {
          "output_type": "stream",
          "name": "stdout",
          "text": [
            "Epoch 4: loss_cls=0.0164 | loss_domain=0.1904\n",
            "Accuracy: 25.68%\n",
            "Epoch 4: target_test accuracy = 25.6838\n"
          ]
        },
        {
          "output_type": "stream",
          "name": "stderr",
          "text": [
            "Epoch 5:   0%|          | 2/469 [00:00<00:31, 14.65it/s]"
          ]
        },
        {
          "output_type": "stream",
          "name": "stdout",
          "text": [
            "[Epoch 5] alpha = 0.583\n"
          ]
        },
        {
          "output_type": "stream",
          "name": "stderr",
          "text": [
            "Epoch 5:  43%|████▎     | 204/469 [00:15<00:19, 13.45it/s]\n"
          ]
        },
        {
          "output_type": "stream",
          "name": "stdout",
          "text": [
            "Epoch 5: loss_cls=0.0139 | loss_domain=0.0395\n",
            "Accuracy: 27.14%\n",
            "Epoch 5: target_test accuracy = 27.1358\n"
          ]
        },
        {
          "output_type": "stream",
          "name": "stderr",
          "text": [
            "Epoch 6:   0%|          | 2/469 [00:00<00:32, 14.33it/s]"
          ]
        },
        {
          "output_type": "stream",
          "name": "stdout",
          "text": [
            "[Epoch 6] alpha = 0.682\n"
          ]
        },
        {
          "output_type": "stream",
          "name": "stderr",
          "text": [
            "Epoch 6:  43%|████▎     | 204/469 [00:15<00:19, 13.42it/s]\n"
          ]
        },
        {
          "output_type": "stream",
          "name": "stdout",
          "text": [
            "Epoch 6: loss_cls=0.0114 | loss_domain=0.0273\n",
            "Accuracy: 26.79%\n",
            "Epoch 6: target_test accuracy = 26.7901\n"
          ]
        },
        {
          "output_type": "stream",
          "name": "stderr",
          "text": [
            "Epoch 7:   0%|          | 2/469 [00:00<00:32, 14.38it/s]"
          ]
        },
        {
          "output_type": "stream",
          "name": "stdout",
          "text": [
            "[Epoch 7] alpha = 0.762\n"
          ]
        },
        {
          "output_type": "stream",
          "name": "stderr",
          "text": [
            "Epoch 7:  43%|████▎     | 204/469 [00:15<00:19, 13.43it/s]\n"
          ]
        },
        {
          "output_type": "stream",
          "name": "stdout",
          "text": [
            "Epoch 7: loss_cls=0.0120 | loss_domain=0.0607\n",
            "Accuracy: 27.16%\n",
            "Epoch 7: target_test accuracy = 27.1627\n"
          ]
        },
        {
          "output_type": "stream",
          "name": "stderr",
          "text": [
            "Epoch 8:   0%|          | 2/469 [00:00<00:39, 11.91it/s]"
          ]
        },
        {
          "output_type": "stream",
          "name": "stdout",
          "text": [
            "[Epoch 8] alpha = 0.823\n"
          ]
        },
        {
          "output_type": "stream",
          "name": "stderr",
          "text": [
            "Epoch 8:  43%|████▎     | 204/469 [00:15<00:19, 13.27it/s]\n"
          ]
        },
        {
          "output_type": "stream",
          "name": "stdout",
          "text": [
            "Epoch 8: loss_cls=0.0199 | loss_domain=0.1239\n",
            "Accuracy: 26.33%\n",
            "Epoch 8: target_test accuracy = 26.3330\n"
          ]
        },
        {
          "output_type": "stream",
          "name": "stderr",
          "text": [
            "Epoch 9:   0%|          | 2/469 [00:00<00:32, 14.33it/s]"
          ]
        },
        {
          "output_type": "stream",
          "name": "stdout",
          "text": [
            "[Epoch 9] alpha = 0.870\n"
          ]
        },
        {
          "output_type": "stream",
          "name": "stderr",
          "text": [
            "Epoch 9:  43%|████▎     | 204/469 [00:16<00:20, 12.73it/s]\n"
          ]
        },
        {
          "output_type": "stream",
          "name": "stdout",
          "text": [
            "Epoch 9: loss_cls=0.0171 | loss_domain=0.1116\n",
            "Accuracy: 25.85%\n",
            "Epoch 9: target_test accuracy = 25.8490\n"
          ]
        },
        {
          "output_type": "stream",
          "name": "stderr",
          "text": [
            "Epoch 10:   0%|          | 2/469 [00:00<00:31, 14.65it/s]"
          ]
        },
        {
          "output_type": "stream",
          "name": "stdout",
          "text": [
            "[Epoch 10] alpha = 0.905\n"
          ]
        },
        {
          "output_type": "stream",
          "name": "stderr",
          "text": [
            "Epoch 10:  43%|████▎     | 204/469 [00:15<00:19, 13.52it/s]\n"
          ]
        },
        {
          "output_type": "stream",
          "name": "stdout",
          "text": [
            "Epoch 10: loss_cls=0.0124 | loss_domain=0.0217\n",
            "Accuracy: 25.14%\n",
            "Epoch 10: target_test accuracy = 25.1421\n"
          ]
        },
        {
          "output_type": "stream",
          "name": "stderr",
          "text": [
            "Epoch 11:   0%|          | 2/469 [00:00<00:33, 14.00it/s]"
          ]
        },
        {
          "output_type": "stream",
          "name": "stdout",
          "text": [
            "[Epoch 11] alpha = 0.931\n"
          ]
        },
        {
          "output_type": "stream",
          "name": "stderr",
          "text": [
            "Epoch 11:  43%|████▎     | 204/469 [00:15<00:19, 13.46it/s]\n"
          ]
        },
        {
          "output_type": "stream",
          "name": "stdout",
          "text": [
            "Epoch 11: loss_cls=0.0223 | loss_domain=0.2042\n",
            "Accuracy: 27.59%\n",
            "Epoch 11: target_test accuracy = 27.5853\n"
          ]
        },
        {
          "output_type": "stream",
          "name": "stderr",
          "text": [
            "Epoch 12:   0%|          | 2/469 [00:00<00:33, 13.89it/s]"
          ]
        },
        {
          "output_type": "stream",
          "name": "stdout",
          "text": [
            "[Epoch 12] alpha = 0.950\n"
          ]
        },
        {
          "output_type": "stream",
          "name": "stderr",
          "text": [
            "Epoch 12:  43%|████▎     | 204/469 [00:15<00:19, 13.34it/s]\n"
          ]
        },
        {
          "output_type": "stream",
          "name": "stdout",
          "text": [
            "Epoch 12: loss_cls=0.0166 | loss_domain=0.0261\n",
            "Accuracy: 25.94%\n",
            "Epoch 12: target_test accuracy = 25.9373\n"
          ]
        },
        {
          "output_type": "stream",
          "name": "stderr",
          "text": [
            "Epoch 13:   0%|          | 2/469 [00:00<00:33, 13.86it/s]"
          ]
        },
        {
          "output_type": "stream",
          "name": "stdout",
          "text": [
            "[Epoch 13] alpha = 0.964\n"
          ]
        },
        {
          "output_type": "stream",
          "name": "stderr",
          "text": [
            "Epoch 13:  43%|████▎     | 204/469 [00:16<00:21, 12.53it/s]\n"
          ]
        },
        {
          "output_type": "stream",
          "name": "stdout",
          "text": [
            "Epoch 13: loss_cls=0.0141 | loss_domain=0.0140\n",
            "Accuracy: 27.53%\n",
            "Epoch 13: target_test accuracy = 27.5277\n"
          ]
        },
        {
          "output_type": "stream",
          "name": "stderr",
          "text": [
            "Epoch 14:   0%|          | 2/469 [00:00<00:35, 12.99it/s]"
          ]
        },
        {
          "output_type": "stream",
          "name": "stdout",
          "text": [
            "[Epoch 14] alpha = 0.974\n"
          ]
        },
        {
          "output_type": "stream",
          "name": "stderr",
          "text": [
            "Epoch 14:  43%|████▎     | 204/469 [00:16<00:20, 12.67it/s]\n"
          ]
        },
        {
          "output_type": "stream",
          "name": "stdout",
          "text": [
            "Epoch 14: loss_cls=0.0116 | loss_domain=0.0114\n",
            "Accuracy: 28.04%\n",
            "Epoch 14: target_test accuracy = 28.0424\n"
          ]
        },
        {
          "output_type": "stream",
          "name": "stderr",
          "text": [
            "Epoch 15:   0%|          | 2/469 [00:00<00:31, 14.89it/s]"
          ]
        },
        {
          "output_type": "stream",
          "name": "stdout",
          "text": [
            "[Epoch 15] alpha = 0.981\n"
          ]
        },
        {
          "output_type": "stream",
          "name": "stderr",
          "text": [
            "Epoch 15:  43%|████▎     | 204/469 [00:15<00:20, 13.24it/s]\n"
          ]
        },
        {
          "output_type": "stream",
          "name": "stdout",
          "text": [
            "Epoch 15: loss_cls=0.0108 | loss_domain=0.0121\n",
            "Accuracy: 25.73%\n",
            "Epoch 15: target_test accuracy = 25.7337\n"
          ]
        }
      ]
    },
    {
      "cell_type": "code",
      "source": [
        "plt.plot(range(1, len(target_accs)+1), target_accs)\n",
        "plt.xlabel(\"Epoch\")\n",
        "plt.ylabel(\"Target Test Accuracy\")\n",
        "plt.title(\"DANN Target Domain Accuracy\")\n",
        "plt.show()"
      ],
      "metadata": {
        "id": "JY7xK4x68td2",
        "outputId": "6329af61-14f3-45f8-bcf0-3a0c045a33fc",
        "colab": {
          "base_uri": "https://localhost:8080/",
          "height": 472
        }
      },
      "id": "JY7xK4x68td2",
      "execution_count": 61,
      "outputs": [
        {
          "output_type": "display_data",
          "data": {
            "text/plain": [
              "<Figure size 640x480 with 1 Axes>"
            ],
            "image/png": "[encoded data removed]"
          },
          "metadata": {}
        }
      ]
    },
    {
      "cell_type": "code",
      "source": [
        "print(\"Eval on Source (MNIST):\")\n",
        "evaluate(nn.Sequential(F, C), source_test, device)"
      ],
      "metadata": {
        "id": "SyKF4JxZ8wO6",
        "outputId": "2555d375-e094-432f-e4fc-e890b4e47ca4",
        "colab": {
          "base_uri": "https://localhost:8080/"
        }
      },
      "id": "SyKF4JxZ8wO6",
      "execution_count": 62,
      "outputs": [
        {
          "output_type": "stream",
          "name": "stdout",
          "text": [
            "Eval on Source (MNIST):\n",
            "Accuracy: 99.04%\n"
          ]
        },
        {
          "output_type": "execute_result",
          "data": {
            "text/plain": [
              "99.04"
            ]
          },
          "metadata": {},
          "execution_count": 62
        }
      ]
    },
    {
      "cell_type": "markdown",
      "source": [
        "## lambda_domain = 0.5"
      ],
      "metadata": {
        "id": "xqFikliW88M1"
      },
      "id": "xqFikliW88M1"
    },
    {
      "metadata": {
        "colab": {
          "base_uri": "https://localhost:8080/"
        },
        "id": "1524825bdcc02202",
        "outputId": "f1908426-29f0-41a2-e18e-e471e0f09522"
      },
      "cell_type": "code",
      "source": [
        "target_accs = train_dann(\n",
        "    F, C, D,\n",
        "    source_loader, target_loader,\n",
        "    device,\n",
        "    epochs=15,\n",
        "    alpha_schedule=alpha_schedule,\n",
        "    lambda_domain=0.5,\n",
        "    evaluate_fn = evaluate, target_test_loader=target_test\n",
        "\n",
        ")"
      ],
      "id": "1524825bdcc02202",
      "outputs": [
        {
          "output_type": "stream",
          "name": "stderr",
          "text": [
            "Epoch 1:   0%|          | 2/469 [00:00<00:32, 14.48it/s]"
          ]
        },
        {
          "output_type": "stream",
          "name": "stdout",
          "text": [
            "[Epoch 1] alpha = 0.000\n"
          ]
        },
        {
          "output_type": "stream",
          "name": "stderr",
          "text": [
            "Epoch 1:  43%|████▎     | 204/469 [00:15<00:20, 12.80it/s]\n"
          ]
        },
        {
          "output_type": "stream",
          "name": "stdout",
          "text": [
            "Epoch 1: loss_cls=0.0096 | loss_domain=0.0085\n",
            "Accuracy: 28.32%\n",
            "Epoch 1: target_test accuracy = 28.3228\n"
          ]
        },
        {
          "output_type": "stream",
          "name": "stderr",
          "text": [
            "Epoch 2:   0%|          | 2/469 [00:00<00:33, 14.13it/s]"
          ]
        },
        {
          "output_type": "stream",
          "name": "stdout",
          "text": [
            "[Epoch 2] alpha = 0.165\n"
          ]
        },
        {
          "output_type": "stream",
          "name": "stderr",
          "text": [
            "Epoch 2:  43%|████▎     | 204/469 [00:15<00:19, 13.27it/s]\n"
          ]
        },
        {
          "output_type": "stream",
          "name": "stdout",
          "text": [
            "Epoch 2: loss_cls=0.0086 | loss_domain=0.0051\n",
            "Accuracy: 27.64%\n",
            "Epoch 2: target_test accuracy = 27.6429\n"
          ]
        },
        {
          "output_type": "stream",
          "name": "stderr",
          "text": [
            "Epoch 3:   0%|          | 2/469 [00:00<00:36, 12.63it/s]"
          ]
        },
        {
          "output_type": "stream",
          "name": "stdout",
          "text": [
            "[Epoch 3] alpha = 0.322\n"
          ]
        },
        {
          "output_type": "stream",
          "name": "stderr",
          "text": [
            "Epoch 3:  43%|████▎     | 204/469 [00:15<00:20, 13.23it/s]\n"
          ]
        },
        {
          "output_type": "stream",
          "name": "stdout",
          "text": [
            "Epoch 3: loss_cls=0.0086 | loss_domain=0.0061\n",
            "Accuracy: 29.26%\n",
            "Epoch 3: target_test accuracy = 29.2601\n"
          ]
        },
        {
          "output_type": "stream",
          "name": "stderr",
          "text": [
            "Epoch 4:   0%|          | 2/469 [00:00<00:32, 14.54it/s]"
          ]
        },
        {
          "output_type": "stream",
          "name": "stdout",
          "text": [
            "[Epoch 4] alpha = 0.462\n"
          ]
        },
        {
          "output_type": "stream",
          "name": "stderr",
          "text": [
            "Epoch 4:  43%|████▎     | 204/469 [00:15<00:19, 13.45it/s]\n"
          ]
        },
        {
          "output_type": "stream",
          "name": "stdout",
          "text": [
            "Epoch 4: loss_cls=0.0120 | loss_domain=0.0716\n",
            "Accuracy: 31.32%\n",
            "Epoch 4: target_test accuracy = 31.3230\n"
          ]
        },
        {
          "output_type": "stream",
          "name": "stderr",
          "text": [
            "Epoch 5:   0%|          | 2/469 [00:00<00:41, 11.24it/s]"
          ]
        },
        {
          "output_type": "stream",
          "name": "stdout",
          "text": [
            "[Epoch 5] alpha = 0.583\n"
          ]
        },
        {
          "output_type": "stream",
          "name": "stderr",
          "text": [
            "Epoch 5:  43%|████▎     | 204/469 [00:15<00:20, 13.17it/s]\n"
          ]
        },
        {
          "output_type": "stream",
          "name": "stdout",
          "text": [
            "Epoch 5: loss_cls=0.0396 | loss_domain=0.3565\n",
            "Accuracy: 26.52%\n",
            "Epoch 5: target_test accuracy = 26.5212\n"
          ]
        },
        {
          "output_type": "stream",
          "name": "stderr",
          "text": [
            "Epoch 6:   0%|          | 2/469 [00:00<00:34, 13.50it/s]"
          ]
        },
        {
          "output_type": "stream",
          "name": "stdout",
          "text": [
            "[Epoch 6] alpha = 0.682\n"
          ]
        },
        {
          "output_type": "stream",
          "name": "stderr",
          "text": [
            "Epoch 6:  43%|████▎     | 204/469 [00:15<00:20, 12.85it/s]\n"
          ]
        },
        {
          "output_type": "stream",
          "name": "stdout",
          "text": [
            "Epoch 6: loss_cls=0.0331 | loss_domain=0.2020\n",
            "Accuracy: 27.02%\n",
            "Epoch 6: target_test accuracy = 27.0167\n"
          ]
        },
        {
          "output_type": "stream",
          "name": "stderr",
          "text": [
            "Epoch 7:   0%|          | 2/469 [00:00<00:33, 13.79it/s]"
          ]
        },
        {
          "output_type": "stream",
          "name": "stdout",
          "text": [
            "[Epoch 7] alpha = 0.762\n"
          ]
        },
        {
          "output_type": "stream",
          "name": "stderr",
          "text": [
            "Epoch 7:  43%|████▎     | 204/469 [00:15<00:19, 13.29it/s]\n"
          ]
        },
        {
          "output_type": "stream",
          "name": "stdout",
          "text": [
            "Epoch 7: loss_cls=0.2343 | loss_domain=2.0044\n",
            "Accuracy: 20.86%\n",
            "Epoch 7: target_test accuracy = 20.8628\n"
          ]
        },
        {
          "output_type": "stream",
          "name": "stderr",
          "text": [
            "Epoch 8:   0%|          | 2/469 [00:00<00:35, 13.11it/s]"
          ]
        },
        {
          "output_type": "stream",
          "name": "stdout",
          "text": [
            "[Epoch 8] alpha = 0.823\n"
          ]
        },
        {
          "output_type": "stream",
          "name": "stderr",
          "text": [
            "Epoch 8:  43%|████▎     | 204/469 [00:15<00:19, 13.26it/s]\n"
          ]
        },
        {
          "output_type": "stream",
          "name": "stdout",
          "text": [
            "Epoch 8: loss_cls=0.1147 | loss_domain=0.7115\n",
            "Accuracy: 18.63%\n",
            "Epoch 8: target_test accuracy = 18.6271\n"
          ]
        },
        {
          "output_type": "stream",
          "name": "stderr",
          "text": [
            "Epoch 9:   0%|          | 2/469 [00:00<00:36, 12.78it/s]"
          ]
        },
        {
          "output_type": "stream",
          "name": "stdout",
          "text": [
            "[Epoch 9] alpha = 0.870\n"
          ]
        },
        {
          "output_type": "stream",
          "name": "stderr",
          "text": [
            "Epoch 9:  43%|████▎     | 204/469 [00:15<00:19, 13.35it/s]\n"
          ]
        },
        {
          "output_type": "stream",
          "name": "stdout",
          "text": [
            "Epoch 9: loss_cls=0.2418 | loss_domain=1.4959\n",
            "Accuracy: 20.08%\n",
            "Epoch 9: target_test accuracy = 20.0830\n"
          ]
        },
        {
          "output_type": "stream",
          "name": "stderr",
          "text": [
            "Epoch 10:   0%|          | 1/469 [00:00<00:52,  8.92it/s]"
          ]
        },
        {
          "output_type": "stream",
          "name": "stdout",
          "text": [
            "[Epoch 10] alpha = 0.905\n"
          ]
        },
        {
          "output_type": "stream",
          "name": "stderr",
          "text": [
            "Epoch 10:  43%|████▎     | 204/469 [00:15<00:20, 13.16it/s]\n"
          ]
        },
        {
          "output_type": "stream",
          "name": "stdout",
          "text": [
            "Epoch 10: loss_cls=0.2825 | loss_domain=1.5691\n",
            "Accuracy: 17.29%\n",
            "Epoch 10: target_test accuracy = 17.2864\n"
          ]
        },
        {
          "output_type": "stream",
          "name": "stderr",
          "text": [
            "Epoch 11:   0%|          | 2/469 [00:00<00:32, 14.55it/s]"
          ]
        },
        {
          "output_type": "stream",
          "name": "stdout",
          "text": [
            "[Epoch 11] alpha = 0.931\n"
          ]
        },
        {
          "output_type": "stream",
          "name": "stderr",
          "text": [
            "Epoch 11:  43%|████▎     | 204/469 [00:16<00:20, 12.68it/s]\n"
          ]
        },
        {
          "output_type": "stream",
          "name": "stdout",
          "text": [
            "Epoch 11: loss_cls=0.2392 | loss_domain=1.1953\n",
            "Accuracy: 14.54%\n",
            "Epoch 11: target_test accuracy = 14.5436\n"
          ]
        },
        {
          "output_type": "stream",
          "name": "stderr",
          "text": [
            "Epoch 12:   0%|          | 2/469 [00:00<00:33, 13.79it/s]"
          ]
        },
        {
          "output_type": "stream",
          "name": "stdout",
          "text": [
            "[Epoch 12] alpha = 0.950\n"
          ]
        },
        {
          "output_type": "stream",
          "name": "stderr",
          "text": [
            "Epoch 12:  43%|████▎     | 204/469 [00:15<00:19, 13.43it/s]\n"
          ]
        },
        {
          "output_type": "stream",
          "name": "stdout",
          "text": [
            "Epoch 12: loss_cls=0.2031 | loss_domain=0.9121\n",
            "Accuracy: 13.41%\n",
            "Epoch 12: target_test accuracy = 13.4143\n"
          ]
        },
        {
          "output_type": "stream",
          "name": "stderr",
          "text": [
            "Epoch 13:   0%|          | 2/469 [00:00<00:32, 14.53it/s]"
          ]
        },
        {
          "output_type": "stream",
          "name": "stdout",
          "text": [
            "[Epoch 13] alpha = 0.964\n"
          ]
        },
        {
          "output_type": "stream",
          "name": "stderr",
          "text": [
            "Epoch 13:  43%|████▎     | 204/469 [00:15<00:19, 13.54it/s]\n"
          ]
        },
        {
          "output_type": "stream",
          "name": "stdout",
          "text": [
            "Epoch 13: loss_cls=0.1835 | loss_domain=0.7548\n",
            "Accuracy: 14.50%\n",
            "Epoch 13: target_test accuracy = 14.5014\n"
          ]
        },
        {
          "output_type": "stream",
          "name": "stderr",
          "text": [
            "Epoch 14:   0%|          | 2/469 [00:00<00:33, 14.03it/s]"
          ]
        },
        {
          "output_type": "stream",
          "name": "stdout",
          "text": [
            "[Epoch 14] alpha = 0.974\n"
          ]
        },
        {
          "output_type": "stream",
          "name": "stderr",
          "text": [
            "Epoch 14:  43%|████▎     | 204/469 [00:15<00:19, 13.38it/s]\n"
          ]
        },
        {
          "output_type": "stream",
          "name": "stdout",
          "text": [
            "Epoch 14: loss_cls=0.1664 | loss_domain=0.6574\n",
            "Accuracy: 14.84%\n",
            "Epoch 14: target_test accuracy = 14.8394\n"
          ]
        },
        {
          "output_type": "stream",
          "name": "stderr",
          "text": [
            "Epoch 15:   0%|          | 1/469 [00:00<00:50,  9.33it/s]"
          ]
        },
        {
          "output_type": "stream",
          "name": "stdout",
          "text": [
            "[Epoch 15] alpha = 0.981\n"
          ]
        },
        {
          "output_type": "stream",
          "name": "stderr",
          "text": [
            "Epoch 15:  43%|████▎     | 204/469 [00:15<00:20, 13.03it/s]\n"
          ]
        },
        {
          "output_type": "stream",
          "name": "stdout",
          "text": [
            "Epoch 15: loss_cls=0.1396 | loss_domain=0.5379\n",
            "Accuracy: 15.77%\n",
            "Epoch 15: target_test accuracy = 15.7729\n"
          ]
        }
      ],
      "execution_count": 63
    },
    {
      "cell_type": "code",
      "source": [
        "plt.plot(range(1, len(target_accs)+1), target_accs)\n",
        "plt.xlabel(\"Epoch\")\n",
        "plt.ylabel(\"Target Test Accuracy\")\n",
        "plt.title(\"DANN Target Domain Accuracy\")\n",
        "plt.show()"
      ],
      "metadata": {
        "id": "g4k7S_nx9DFF",
        "outputId": "0a21226a-4706-4e4e-a7cf-5b72b5628b09",
        "colab": {
          "base_uri": "https://localhost:8080/",
          "height": 472
        }
      },
      "id": "g4k7S_nx9DFF",
      "execution_count": 64,
      "outputs": [
        {
          "output_type": "display_data",
          "data": {
            "text/plain": [
              "<Figure size 640x480 with 1 Axes>"
            ],
            "image/png": "[encoded data removed]"
          },
          "metadata": {}
        }
      ]
    },
    {
      "cell_type": "code",
      "source": [
        "print(\"Eval on Source (MNIST):\")\n",
        "evaluate(nn.Sequential(F, C), source_test, device)"
      ],
      "metadata": {
        "id": "dhXJIpuo9Fsw",
        "outputId": "28407d4c-f139-427f-95f7-41cf407dc927",
        "colab": {
          "base_uri": "https://localhost:8080/"
        }
      },
      "id": "dhXJIpuo9Fsw",
      "execution_count": 65,
      "outputs": [
        {
          "output_type": "stream",
          "name": "stdout",
          "text": [
            "Eval on Source (MNIST):\n",
            "Accuracy: 93.77%\n"
          ]
        },
        {
          "output_type": "execute_result",
          "data": {
            "text/plain": [
              "93.77"
            ]
          },
          "metadata": {},
          "execution_count": 65
        }
      ]
    },
    {
      "cell_type": "markdown",
      "source": [
        "## 0.7"
      ],
      "metadata": {
        "id": "RHlD_nTw9Gtl"
      },
      "id": "RHlD_nTw9Gtl"
    },
    {
      "cell_type": "code",
      "source": [
        "target_accs = train_dann(\n",
        "    F, C, D,\n",
        "    source_loader, target_loader,\n",
        "    device,\n",
        "    epochs=15,\n",
        "    alpha_schedule=alpha_schedule,\n",
        "    lambda_domain=0.7,\n",
        "    evaluate_fn = evaluate, target_test_loader=target_test\n",
        "\n",
        ")"
      ],
      "metadata": {
        "id": "ZRQ7599x9M07",
        "outputId": "95c93ecc-b2ed-4879-a596-071f7f4a3fb1",
        "colab": {
          "base_uri": "https://localhost:8080/"
        }
      },
      "id": "ZRQ7599x9M07",
      "execution_count": 66,
      "outputs": [
        {
          "output_type": "stream",
          "name": "stderr",
          "text": [
            "Epoch 1:   0%|          | 1/469 [00:00<00:58,  8.03it/s]"
          ]
        },
        {
          "output_type": "stream",
          "name": "stdout",
          "text": [
            "[Epoch 1] alpha = 0.000\n"
          ]
        },
        {
          "output_type": "stream",
          "name": "stderr",
          "text": [
            "Epoch 1:  43%|████▎     | 204/469 [00:16<00:21, 12.59it/s]\n"
          ]
        },
        {
          "output_type": "stream",
          "name": "stdout",
          "text": [
            "Epoch 1: loss_cls=0.0671 | loss_domain=0.2139\n",
            "Accuracy: 15.87%\n",
            "Epoch 1: target_test accuracy = 15.8689\n"
          ]
        },
        {
          "output_type": "stream",
          "name": "stderr",
          "text": [
            "Epoch 2:   0%|          | 1/469 [00:00<00:53,  8.80it/s]"
          ]
        },
        {
          "output_type": "stream",
          "name": "stdout",
          "text": [
            "[Epoch 2] alpha = 0.165\n"
          ]
        },
        {
          "output_type": "stream",
          "name": "stderr",
          "text": [
            "Epoch 2:  43%|████▎     | 204/469 [00:16<00:21, 12.54it/s]\n"
          ]
        },
        {
          "output_type": "stream",
          "name": "stdout",
          "text": [
            "Epoch 2: loss_cls=0.0513 | loss_domain=0.1451\n",
            "Accuracy: 16.49%\n",
            "Epoch 2: target_test accuracy = 16.4912\n"
          ]
        },
        {
          "output_type": "stream",
          "name": "stderr",
          "text": [
            "Epoch 3:   0%|          | 2/469 [00:00<00:45, 10.30it/s]"
          ]
        },
        {
          "output_type": "stream",
          "name": "stdout",
          "text": [
            "[Epoch 3] alpha = 0.322\n"
          ]
        },
        {
          "output_type": "stream",
          "name": "stderr",
          "text": [
            "Epoch 3:  43%|████▎     | 204/469 [00:16<00:20, 12.62it/s]\n"
          ]
        },
        {
          "output_type": "stream",
          "name": "stdout",
          "text": [
            "Epoch 3: loss_cls=0.0630 | loss_domain=0.3068\n",
            "Accuracy: 17.32%\n",
            "Epoch 3: target_test accuracy = 17.3171\n"
          ]
        },
        {
          "output_type": "stream",
          "name": "stderr",
          "text": [
            "Epoch 4:   0%|          | 2/469 [00:00<00:34, 13.54it/s]"
          ]
        },
        {
          "output_type": "stream",
          "name": "stdout",
          "text": [
            "[Epoch 4] alpha = 0.462\n"
          ]
        },
        {
          "output_type": "stream",
          "name": "stderr",
          "text": [
            "Epoch 4:  43%|████▎     | 204/469 [00:15<00:20, 13.06it/s]\n"
          ]
        },
        {
          "output_type": "stream",
          "name": "stdout",
          "text": [
            "Epoch 4: loss_cls=0.0547 | loss_domain=0.1404\n",
            "Accuracy: 20.36%\n",
            "Epoch 4: target_test accuracy = 20.3634\n"
          ]
        },
        {
          "output_type": "stream",
          "name": "stderr",
          "text": [
            "Epoch 5:   0%|          | 2/469 [00:00<00:33, 14.15it/s]"
          ]
        },
        {
          "output_type": "stream",
          "name": "stdout",
          "text": [
            "[Epoch 5] alpha = 0.583\n"
          ]
        },
        {
          "output_type": "stream",
          "name": "stderr",
          "text": [
            "Epoch 5:  43%|████▎     | 204/469 [00:15<00:19, 13.47it/s]\n"
          ]
        },
        {
          "output_type": "stream",
          "name": "stdout",
          "text": [
            "Epoch 5: loss_cls=0.0699 | loss_domain=0.2957\n",
            "Accuracy: 22.84%\n",
            "Epoch 5: target_test accuracy = 22.8411\n"
          ]
        },
        {
          "output_type": "stream",
          "name": "stderr",
          "text": [
            "Epoch 6:   0%|          | 2/469 [00:00<00:32, 14.32it/s]"
          ]
        },
        {
          "output_type": "stream",
          "name": "stdout",
          "text": [
            "[Epoch 6] alpha = 0.682\n"
          ]
        },
        {
          "output_type": "stream",
          "name": "stderr",
          "text": [
            "Epoch 6:  43%|████▎     | 204/469 [00:15<00:20, 13.17it/s]\n"
          ]
        },
        {
          "output_type": "stream",
          "name": "stdout",
          "text": [
            "Epoch 6: loss_cls=0.0650 | loss_domain=0.2436\n",
            "Accuracy: 21.61%\n",
            "Epoch 6: target_test accuracy = 21.6119\n"
          ]
        },
        {
          "output_type": "stream",
          "name": "stderr",
          "text": [
            "Epoch 7:   0%|          | 2/469 [00:00<00:32, 14.35it/s]"
          ]
        },
        {
          "output_type": "stream",
          "name": "stdout",
          "text": [
            "[Epoch 7] alpha = 0.762\n"
          ]
        },
        {
          "output_type": "stream",
          "name": "stderr",
          "text": [
            "Epoch 7:  43%|████▎     | 204/469 [00:15<00:20, 13.20it/s]\n"
          ]
        },
        {
          "output_type": "stream",
          "name": "stdout",
          "text": [
            "Epoch 7: loss_cls=0.0765 | loss_domain=0.2831\n",
            "Accuracy: 21.57%\n",
            "Epoch 7: target_test accuracy = 21.5658\n"
          ]
        },
        {
          "output_type": "stream",
          "name": "stderr",
          "text": [
            "Epoch 8:   0%|          | 2/469 [00:00<00:32, 14.57it/s]"
          ]
        },
        {
          "output_type": "stream",
          "name": "stdout",
          "text": [
            "[Epoch 8] alpha = 0.823\n"
          ]
        },
        {
          "output_type": "stream",
          "name": "stderr",
          "text": [
            "Epoch 8:  43%|████▎     | 204/469 [00:15<00:19, 13.34it/s]\n"
          ]
        },
        {
          "output_type": "stream",
          "name": "stdout",
          "text": [
            "Epoch 8: loss_cls=0.0946 | loss_domain=0.3592\n",
            "Accuracy: 22.62%\n",
            "Epoch 8: target_test accuracy = 22.6183\n"
          ]
        },
        {
          "output_type": "stream",
          "name": "stderr",
          "text": [
            "Epoch 9:   0%|          | 1/469 [00:00<00:50,  9.24it/s]"
          ]
        },
        {
          "output_type": "stream",
          "name": "stdout",
          "text": [
            "[Epoch 9] alpha = 0.870\n"
          ]
        },
        {
          "output_type": "stream",
          "name": "stderr",
          "text": [
            "Epoch 9:  43%|████▎     | 204/469 [00:15<00:20, 12.87it/s]\n"
          ]
        },
        {
          "output_type": "stream",
          "name": "stdout",
          "text": [
            "Epoch 9: loss_cls=0.0847 | loss_domain=0.3319\n",
            "Accuracy: 24.80%\n",
            "Epoch 9: target_test accuracy = 24.8002\n"
          ]
        },
        {
          "output_type": "stream",
          "name": "stderr",
          "text": [
            "Epoch 10:   0%|          | 2/469 [00:00<00:35, 13.31it/s]"
          ]
        },
        {
          "output_type": "stream",
          "name": "stdout",
          "text": [
            "[Epoch 10] alpha = 0.905\n"
          ]
        },
        {
          "output_type": "stream",
          "name": "stderr",
          "text": [
            "Epoch 10:  43%|████▎     | 204/469 [00:15<00:20, 13.13it/s]\n"
          ]
        },
        {
          "output_type": "stream",
          "name": "stdout",
          "text": [
            "Epoch 10: loss_cls=0.0916 | loss_domain=0.3593\n",
            "Accuracy: 22.56%\n",
            "Epoch 10: target_test accuracy = 22.5645\n"
          ]
        },
        {
          "output_type": "stream",
          "name": "stderr",
          "text": [
            "Epoch 11:   0%|          | 2/469 [00:00<00:32, 14.51it/s]"
          ]
        },
        {
          "output_type": "stream",
          "name": "stdout",
          "text": [
            "[Epoch 11] alpha = 0.931\n"
          ]
        },
        {
          "output_type": "stream",
          "name": "stderr",
          "text": [
            "Epoch 11:  43%|████▎     | 204/469 [00:15<00:20, 12.81it/s]\n"
          ]
        },
        {
          "output_type": "stream",
          "name": "stdout",
          "text": [
            "Epoch 11: loss_cls=0.0984 | loss_domain=0.3685\n",
            "Accuracy: 26.48%\n",
            "Epoch 11: target_test accuracy = 26.4828\n"
          ]
        },
        {
          "output_type": "stream",
          "name": "stderr",
          "text": [
            "Epoch 12:   0%|          | 2/469 [00:00<00:33, 14.07it/s]"
          ]
        },
        {
          "output_type": "stream",
          "name": "stdout",
          "text": [
            "[Epoch 12] alpha = 0.950\n"
          ]
        },
        {
          "output_type": "stream",
          "name": "stderr",
          "text": [
            "Epoch 12:  43%|████▎     | 204/469 [00:15<00:20, 13.06it/s]\n"
          ]
        },
        {
          "output_type": "stream",
          "name": "stdout",
          "text": [
            "Epoch 12: loss_cls=0.1000 | loss_domain=0.3823\n",
            "Accuracy: 24.12%\n",
            "Epoch 12: target_test accuracy = 24.1165\n"
          ]
        },
        {
          "output_type": "stream",
          "name": "stderr",
          "text": [
            "Epoch 13:   0%|          | 2/469 [00:00<00:33, 13.86it/s]"
          ]
        },
        {
          "output_type": "stream",
          "name": "stdout",
          "text": [
            "[Epoch 13] alpha = 0.964\n"
          ]
        },
        {
          "output_type": "stream",
          "name": "stderr",
          "text": [
            "Epoch 13:  43%|████▎     | 204/469 [00:15<00:19, 13.50it/s]\n"
          ]
        },
        {
          "output_type": "stream",
          "name": "stdout",
          "text": [
            "Epoch 13: loss_cls=0.1061 | loss_domain=0.3980\n",
            "Accuracy: 23.96%\n",
            "Epoch 13: target_test accuracy = 23.9551\n"
          ]
        },
        {
          "output_type": "stream",
          "name": "stderr",
          "text": [
            "Epoch 14:   0%|          | 1/469 [00:00<00:49,  9.41it/s]"
          ]
        },
        {
          "output_type": "stream",
          "name": "stdout",
          "text": [
            "[Epoch 14] alpha = 0.974\n"
          ]
        },
        {
          "output_type": "stream",
          "name": "stderr",
          "text": [
            "Epoch 14:  43%|████▎     | 204/469 [00:15<00:20, 13.21it/s]\n"
          ]
        },
        {
          "output_type": "stream",
          "name": "stdout",
          "text": [
            "Epoch 14: loss_cls=0.1039 | loss_domain=0.4138\n",
            "Accuracy: 21.96%\n",
            "Epoch 14: target_test accuracy = 21.9576\n"
          ]
        },
        {
          "output_type": "stream",
          "name": "stderr",
          "text": [
            "Epoch 15:   0%|          | 2/469 [00:00<00:35, 13.22it/s]"
          ]
        },
        {
          "output_type": "stream",
          "name": "stdout",
          "text": [
            "[Epoch 15] alpha = 0.981\n"
          ]
        },
        {
          "output_type": "stream",
          "name": "stderr",
          "text": [
            "Epoch 15:  43%|████▎     | 204/469 [00:15<00:19, 13.32it/s]\n"
          ]
        },
        {
          "output_type": "stream",
          "name": "stdout",
          "text": [
            "Epoch 15: loss_cls=0.1102 | loss_domain=0.4293\n",
            "Accuracy: 23.26%\n",
            "Epoch 15: target_test accuracy = 23.2598\n"
          ]
        }
      ]
    },
    {
      "cell_type": "code",
      "source": [
        "plt.plot(range(1, len(target_accs)+1), target_accs)\n",
        "plt.xlabel(\"Epoch\")\n",
        "plt.ylabel(\"Target Test Accuracy\")\n",
        "plt.title(\"DANN Target Domain Accuracy\")\n",
        "plt.show()"
      ],
      "metadata": {
        "id": "8LqwBGTT9OTd",
        "outputId": "17e53b14-0cdd-4eb1-b3a0-790702c671f0",
        "colab": {
          "base_uri": "https://localhost:8080/",
          "height": 472
        }
      },
      "id": "8LqwBGTT9OTd",
      "execution_count": 67,
      "outputs": [
        {
          "output_type": "display_data",
          "data": {
            "text/plain": [
              "<Figure size 640x480 with 1 Axes>"
            ],
            "image/png": "[encoded data removed]"
          },
          "metadata": {}
        }
      ]
    },
    {
      "cell_type": "code",
      "source": [
        "print(\"Eval on Source (MNIST):\")\n",
        "evaluate(nn.Sequential(F, C), source_test, device)"
      ],
      "metadata": {
        "id": "k3BKkmWC9QX_",
        "outputId": "cd438d3a-51a9-42de-a1f9-56d063901b6d",
        "colab": {
          "base_uri": "https://localhost:8080/"
        }
      },
      "id": "k3BKkmWC9QX_",
      "execution_count": 68,
      "outputs": [
        {
          "output_type": "stream",
          "name": "stdout",
          "text": [
            "Eval on Source (MNIST):\n",
            "Accuracy: 94.85%\n"
          ]
        },
        {
          "output_type": "execute_result",
          "data": {
            "text/plain": [
              "94.85"
            ]
          },
          "metadata": {},
          "execution_count": 68
        }
      ]
    },
    {
      "cell_type": "markdown",
      "source": [
        "## lamda_domain = 1.0"
      ],
      "metadata": {
        "id": "LrYXoEdlAAXw"
      },
      "id": "LrYXoEdlAAXw"
    },
    {
      "cell_type": "code",
      "source": [
        "target_accs = train_dann(\n",
        "    F, C, D,\n",
        "    source_loader, target_loader,\n",
        "    device,\n",
        "    epochs=15,\n",
        "    alpha_schedule=alpha_schedule,\n",
        "    lambda_domain=1.0,\n",
        "    evaluate_fn = evaluate, target_test_loader=target_test\n",
        "\n",
        ")"
      ],
      "metadata": {
        "id": "Ahx-JHZVAGTY",
        "outputId": "6a295752-9c9f-41d6-fa83-c274a022fdcf",
        "colab": {
          "base_uri": "https://localhost:8080/"
        }
      },
      "id": "Ahx-JHZVAGTY",
      "execution_count": 70,
      "outputs": [
        {
          "output_type": "stream",
          "name": "stderr",
          "text": [
            "Epoch 1:   0%|          | 2/469 [00:00<00:47,  9.75it/s]"
          ]
        },
        {
          "output_type": "stream",
          "name": "stdout",
          "text": [
            "[Epoch 1] alpha = 0.000\n"
          ]
        },
        {
          "output_type": "stream",
          "name": "stderr",
          "text": [
            "Epoch 1:  43%|████▎     | 204/469 [00:15<00:19, 13.36it/s]\n"
          ]
        },
        {
          "output_type": "stream",
          "name": "stdout",
          "text": [
            "Epoch 1: loss_cls=0.0451 | loss_domain=0.1987\n",
            "Accuracy: 24.81%\n",
            "Epoch 1: target_test accuracy = 24.8118\n"
          ]
        },
        {
          "output_type": "stream",
          "name": "stderr",
          "text": [
            "Epoch 2:   0%|          | 2/469 [00:00<00:31, 14.86it/s]"
          ]
        },
        {
          "output_type": "stream",
          "name": "stdout",
          "text": [
            "[Epoch 2] alpha = 0.165\n"
          ]
        },
        {
          "output_type": "stream",
          "name": "stderr",
          "text": [
            "Epoch 2:  43%|████▎     | 204/469 [00:15<00:19, 13.25it/s]\n"
          ]
        },
        {
          "output_type": "stream",
          "name": "stdout",
          "text": [
            "Epoch 2: loss_cls=0.0445 | loss_domain=0.2232\n",
            "Accuracy: 25.55%\n",
            "Epoch 2: target_test accuracy = 25.5455\n"
          ]
        },
        {
          "output_type": "stream",
          "name": "stderr",
          "text": [
            "Epoch 3:   0%|          | 2/469 [00:00<00:32, 14.50it/s]"
          ]
        },
        {
          "output_type": "stream",
          "name": "stdout",
          "text": [
            "[Epoch 3] alpha = 0.322\n"
          ]
        },
        {
          "output_type": "stream",
          "name": "stderr",
          "text": [
            "Epoch 3:  43%|████▎     | 204/469 [00:14<00:19, 13.64it/s]\n"
          ]
        },
        {
          "output_type": "stream",
          "name": "stdout",
          "text": [
            "Epoch 3: loss_cls=0.0689 | loss_domain=0.3032\n",
            "Accuracy: 25.84%\n",
            "Epoch 3: target_test accuracy = 25.8413\n"
          ]
        },
        {
          "output_type": "stream",
          "name": "stderr",
          "text": [
            "Epoch 4:   0%|          | 2/469 [00:00<00:32, 14.48it/s]"
          ]
        },
        {
          "output_type": "stream",
          "name": "stdout",
          "text": [
            "[Epoch 4] alpha = 0.462\n"
          ]
        },
        {
          "output_type": "stream",
          "name": "stderr",
          "text": [
            "Epoch 4:  43%|████▎     | 204/469 [00:14<00:19, 13.78it/s]\n"
          ]
        },
        {
          "output_type": "stream",
          "name": "stdout",
          "text": [
            "Epoch 4: loss_cls=0.0797 | loss_domain=0.3256\n",
            "Accuracy: 26.42%\n",
            "Epoch 4: target_test accuracy = 26.4175\n"
          ]
        },
        {
          "output_type": "stream",
          "name": "stderr",
          "text": [
            "\rEpoch 5:   0%|          | 0/469 [00:00<?, ?it/s]"
          ]
        },
        {
          "output_type": "stream",
          "name": "stdout",
          "text": [
            "[Epoch 5] alpha = 0.583\n"
          ]
        },
        {
          "output_type": "stream",
          "name": "stderr",
          "text": [
            "Epoch 5:  43%|████▎     | 204/469 [00:15<00:19, 13.60it/s]\n"
          ]
        },
        {
          "output_type": "stream",
          "name": "stdout",
          "text": [
            "Epoch 5: loss_cls=0.1105 | loss_domain=0.4067\n",
            "Accuracy: 22.76%\n",
            "Epoch 5: target_test accuracy = 22.7643\n"
          ]
        },
        {
          "output_type": "stream",
          "name": "stderr",
          "text": [
            "Epoch 6:   0%|          | 2/469 [00:00<00:32, 14.55it/s]"
          ]
        },
        {
          "output_type": "stream",
          "name": "stdout",
          "text": [
            "[Epoch 6] alpha = 0.682\n"
          ]
        },
        {
          "output_type": "stream",
          "name": "stderr",
          "text": [
            "Epoch 6:  43%|████▎     | 204/469 [00:15<00:20, 13.12it/s]\n"
          ]
        },
        {
          "output_type": "stream",
          "name": "stdout",
          "text": [
            "Epoch 6: loss_cls=0.2251 | loss_domain=1.4183\n",
            "Accuracy: 19.26%\n",
            "Epoch 6: target_test accuracy = 19.2571\n"
          ]
        },
        {
          "output_type": "stream",
          "name": "stderr",
          "text": [
            "Epoch 7:   0%|          | 2/469 [00:00<00:31, 14.76it/s]"
          ]
        },
        {
          "output_type": "stream",
          "name": "stdout",
          "text": [
            "[Epoch 7] alpha = 0.762\n"
          ]
        },
        {
          "output_type": "stream",
          "name": "stderr",
          "text": [
            "Epoch 7:  43%|████▎     | 204/469 [00:14<00:19, 13.67it/s]\n"
          ]
        },
        {
          "output_type": "stream",
          "name": "stdout",
          "text": [
            "Epoch 7: loss_cls=0.2765 | loss_domain=1.6351\n",
            "Accuracy: 19.08%\n",
            "Epoch 7: target_test accuracy = 19.0842\n"
          ]
        },
        {
          "output_type": "stream",
          "name": "stderr",
          "text": [
            "Epoch 8:   0%|          | 2/469 [00:00<00:31, 14.66it/s]"
          ]
        },
        {
          "output_type": "stream",
          "name": "stdout",
          "text": [
            "[Epoch 8] alpha = 0.823\n"
          ]
        },
        {
          "output_type": "stream",
          "name": "stderr",
          "text": [
            "Epoch 8:  43%|████▎     | 204/469 [00:14<00:19, 13.73it/s]\n"
          ]
        },
        {
          "output_type": "stream",
          "name": "stdout",
          "text": [
            "Epoch 8: loss_cls=0.1872 | loss_domain=0.5643\n",
            "Accuracy: 21.65%\n",
            "Epoch 8: target_test accuracy = 21.6541\n"
          ]
        },
        {
          "output_type": "stream",
          "name": "stderr",
          "text": [
            "Epoch 9:   0%|          | 2/469 [00:00<00:31, 14.62it/s]"
          ]
        },
        {
          "output_type": "stream",
          "name": "stdout",
          "text": [
            "[Epoch 9] alpha = 0.870\n"
          ]
        },
        {
          "output_type": "stream",
          "name": "stderr",
          "text": [
            "Epoch 9:  43%|████▎     | 204/469 [00:14<00:19, 13.74it/s]\n"
          ]
        },
        {
          "output_type": "stream",
          "name": "stdout",
          "text": [
            "Epoch 9: loss_cls=0.1636 | loss_domain=0.4490\n",
            "Accuracy: 28.43%\n",
            "Epoch 9: target_test accuracy = 28.4342\n"
          ]
        },
        {
          "output_type": "stream",
          "name": "stderr",
          "text": [
            "Epoch 10:   0%|          | 2/469 [00:00<00:31, 14.73it/s]"
          ]
        },
        {
          "output_type": "stream",
          "name": "stdout",
          "text": [
            "[Epoch 10] alpha = 0.905\n"
          ]
        },
        {
          "output_type": "stream",
          "name": "stderr",
          "text": [
            "Epoch 10:  43%|████▎     | 204/469 [00:15<00:20, 13.00it/s]\n"
          ]
        },
        {
          "output_type": "stream",
          "name": "stdout",
          "text": [
            "Epoch 10: loss_cls=0.1364 | loss_domain=0.4289\n",
            "Accuracy: 29.88%\n",
            "Epoch 10: target_test accuracy = 29.8786\n"
          ]
        },
        {
          "output_type": "stream",
          "name": "stderr",
          "text": [
            "Epoch 11:   0%|          | 2/469 [00:00<00:36, 12.63it/s]"
          ]
        },
        {
          "output_type": "stream",
          "name": "stdout",
          "text": [
            "[Epoch 11] alpha = 0.931\n"
          ]
        },
        {
          "output_type": "stream",
          "name": "stderr",
          "text": [
            "Epoch 11:  43%|████▎     | 204/469 [00:14<00:19, 13.70it/s]\n"
          ]
        },
        {
          "output_type": "stream",
          "name": "stdout",
          "text": [
            "Epoch 11: loss_cls=0.1525 | loss_domain=0.4592\n",
            "Accuracy: 31.23%\n",
            "Epoch 11: target_test accuracy = 31.2270\n"
          ]
        },
        {
          "output_type": "stream",
          "name": "stderr",
          "text": [
            "Epoch 12:   0%|          | 2/469 [00:00<00:31, 14.81it/s]"
          ]
        },
        {
          "output_type": "stream",
          "name": "stdout",
          "text": [
            "[Epoch 12] alpha = 0.950\n"
          ]
        },
        {
          "output_type": "stream",
          "name": "stderr",
          "text": [
            "Epoch 12:  43%|████▎     | 204/469 [00:14<00:19, 13.62it/s]\n"
          ]
        },
        {
          "output_type": "stream",
          "name": "stdout",
          "text": [
            "Epoch 12: loss_cls=0.1328 | loss_domain=0.4457\n",
            "Accuracy: 30.90%\n",
            "Epoch 12: target_test accuracy = 30.8966\n"
          ]
        },
        {
          "output_type": "stream",
          "name": "stderr",
          "text": [
            "Epoch 13:   0%|          | 2/469 [00:00<00:37, 12.41it/s]"
          ]
        },
        {
          "output_type": "stream",
          "name": "stdout",
          "text": [
            "[Epoch 13] alpha = 0.964\n"
          ]
        },
        {
          "output_type": "stream",
          "name": "stderr",
          "text": [
            "Epoch 13:  43%|████▎     | 204/469 [00:14<00:19, 13.73it/s]\n"
          ]
        },
        {
          "output_type": "stream",
          "name": "stdout",
          "text": [
            "Epoch 13: loss_cls=0.1412 | loss_domain=0.4495\n",
            "Accuracy: 28.78%\n",
            "Epoch 13: target_test accuracy = 28.7800\n"
          ]
        },
        {
          "output_type": "stream",
          "name": "stderr",
          "text": [
            "Epoch 14:   0%|          | 2/469 [00:00<00:42, 10.97it/s]"
          ]
        },
        {
          "output_type": "stream",
          "name": "stdout",
          "text": [
            "[Epoch 14] alpha = 0.974\n"
          ]
        },
        {
          "output_type": "stream",
          "name": "stderr",
          "text": [
            "Epoch 14:  43%|████▎     | 204/469 [00:16<00:20, 12.63it/s]\n"
          ]
        },
        {
          "output_type": "stream",
          "name": "stdout",
          "text": [
            "Epoch 14: loss_cls=0.1241 | loss_domain=0.4381\n",
            "Accuracy: 27.02%\n",
            "Epoch 14: target_test accuracy = 27.0167\n"
          ]
        },
        {
          "output_type": "stream",
          "name": "stderr",
          "text": [
            "Epoch 15:   0%|          | 2/469 [00:00<00:33, 13.80it/s]"
          ]
        },
        {
          "output_type": "stream",
          "name": "stdout",
          "text": [
            "[Epoch 15] alpha = 0.981\n"
          ]
        },
        {
          "output_type": "stream",
          "name": "stderr",
          "text": [
            "Epoch 15:  43%|████▎     | 204/469 [00:15<00:19, 13.53it/s]\n"
          ]
        },
        {
          "output_type": "stream",
          "name": "stdout",
          "text": [
            "Epoch 15: loss_cls=0.1518 | loss_domain=0.4645\n",
            "Accuracy: 26.43%\n",
            "Epoch 15: target_test accuracy = 26.4329\n"
          ]
        }
      ]
    },
    {
      "cell_type": "code",
      "source": [
        "plt.plot(range(1, len(target_accs)+1), target_accs)\n",
        "plt.xlabel(\"Epoch\")\n",
        "plt.ylabel(\"Target Test Accuracy\")\n",
        "plt.title(\"DANN Target Domain Accuracy\")\n",
        "plt.show()"
      ],
      "metadata": {
        "id": "Bm09QAuCAHTJ",
        "outputId": "1753ef29-59c3-4fa2-f5dc-66e960a8597c",
        "colab": {
          "base_uri": "https://localhost:8080/",
          "height": 472
        }
      },
      "id": "Bm09QAuCAHTJ",
      "execution_count": 71,
      "outputs": [
        {
          "output_type": "display_data",
          "data": {
            "text/plain": [
              "<Figure size 640x480 with 1 Axes>"
            ],
            "image/png": "[encoded data removed]"
          },
          "metadata": {}
        }
      ]
    },
    {
      "cell_type": "code",
      "source": [
        "print(\"Eval on Source (MNIST):\")\n",
        "evaluate(nn.Sequential(F, C), source_test, device)"
      ],
      "metadata": {
        "id": "uhdhdWIpAJ_O",
        "outputId": "33ec7f36-0f87-4ced-d23e-92396cdf6930",
        "colab": {
          "base_uri": "https://localhost:8080/"
        }
      },
      "id": "uhdhdWIpAJ_O",
      "execution_count": 72,
      "outputs": [
        {
          "output_type": "stream",
          "name": "stdout",
          "text": [
            "Eval on Source (MNIST):\n",
            "Accuracy: 92.45%\n"
          ]
        },
        {
          "output_type": "execute_result",
          "data": {
            "text/plain": [
              "92.45"
            ]
          },
          "metadata": {},
          "execution_count": 72
        }
      ]
    }
  ],
  "metadata": {
    "kernelspec": {
      "display_name": "Python 3",
      "name": "python3"
    },
    "language_info": {
      "codemirror_mode": {
        "name": "ipython",
        "version": 2
      },
      "file_extension": ".py",
      "mimetype": "text/x-python",
      "name": "python",
      "nbconvert_exporter": "python",
      "pygments_lexer": "ipython2",
      "version": "2.7.6"
    },
    "colab": {
      "provenance": [],
      "gpuType": "T4"
    },
    "accelerator": "GPU"
  },
  "nbformat": 4,
  "nbformat_minor": 5
}