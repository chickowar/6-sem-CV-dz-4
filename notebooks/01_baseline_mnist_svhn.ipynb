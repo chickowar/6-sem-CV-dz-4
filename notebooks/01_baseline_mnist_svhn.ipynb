{
  "cells": [
    {
      "cell_type": "code",
      "source": [
        "!git clone https://github.com/chickowar/6-sem-CV-dz-4"
      ],
      "metadata": {
        "id": "fdLXbUa1iNQ8",
        "outputId": "997859dc-8dc0-4cbf-9ad2-9b2d3212b680",
        "colab": {
          "base_uri": "https://localhost:8080/"
        }
      },
      "id": "fdLXbUa1iNQ8",
      "execution_count": 1,
      "outputs": [
        {
          "output_type": "stream",
          "name": "stdout",
          "text": [
            "Cloning into '6-sem-CV-dz-4'...\n",
            "remote: Enumerating objects: 13, done.\u001b[K\n",
            "remote: Counting objects: 100% (13/13), done.\u001b[K\n",
            "remote: Compressing objects: 100% (11/11), done.\u001b[K\n",
            "remote: Total 13 (delta 1), reused 12 (delta 0), pack-reused 0 (from 0)\u001b[K\n",
            "Receiving objects: 100% (13/13), done.\n",
            "Resolving deltas: 100% (1/1), done.\n"
          ]
        }
      ]
    },
    {
      "cell_type": "code",
      "source": [
        "%cd 6-sem-CV-dz-4/"
      ],
      "metadata": {
        "id": "WgOL3feiiSLX",
        "outputId": "346f9578-cc11-4ce3-de8f-d42f5000fdbd",
        "colab": {
          "base_uri": "https://localhost:8080/"
        }
      },
      "id": "WgOL3feiiSLX",
      "execution_count": 2,
      "outputs": [
        {
          "output_type": "stream",
          "name": "stdout",
          "text": [
            "/content/6-sem-CV-dz-4\n"
          ]
        }
      ]
    },
    {
      "cell_type": "code",
      "source": [
        "import sys\n",
        "sys.path.append('./src') # чтобы он видел модуль src"
      ],
      "metadata": {
        "id": "TZyp7ZnMicIF"
      },
      "id": "TZyp7ZnMicIF",
      "execution_count": 3,
      "outputs": []
    },
    {
      "cell_type": "code",
      "id": "initial_id",
      "metadata": {
        "collapsed": true,
        "id": "initial_id",
        "outputId": "21268eee-088f-4fa2-d56d-78fcedf6abf5",
        "colab": {
          "base_uri": "https://localhost:8080/"
        }
      },
      "source": [
        "from src.datasets import get_mnist, get_svhn\n",
        "from src.models import SimpleCNN\n",
        "from src.train_eval import train, evaluate\n",
        "\n",
        "import torch\n",
        "device = torch.device(\"cuda\" if torch.cuda.is_available() else \"cpu\")\n",
        "device"
      ],
      "outputs": [
        {
          "output_type": "execute_result",
          "data": {
            "text/plain": [
              "device(type='cuda')"
            ]
          },
          "metadata": {},
          "execution_count": 4
        }
      ],
      "execution_count": 4
    },
    {
      "metadata": {
        "id": "3d1a0d6a817e42b2"
      },
      "cell_type": "markdown",
      "source": [
        "# Загрузка датасетов и модельки"
      ],
      "id": "3d1a0d6a817e42b2"
    },
    {
      "cell_type": "code",
      "source": [
        "# datasets.py\n",
        "import torchvision.transforms as transforms\n",
        "from torchvision.datasets import MNIST, SVHN\n",
        "from torch.utils.data import DataLoader\n",
        "\n",
        "def get_mnist(batch_size=128, train=True):\n",
        "    transform = transforms.Compose([\n",
        "        transforms.Resize((32, 32)),  # SVHN имеет размер 32x32\n",
        "        transforms.ToTensor(),\n",
        "        transforms.Normalize((0.5,), (0.5,))\n",
        "    ])\n",
        "    dataset = MNIST(root='./data', train=train, transform=transform, download=True)\n",
        "    return DataLoader(dataset, batch_size=batch_size, shuffle=train)\n",
        "\n",
        "def get_svhn(batch_size=128, split='test'):\n",
        "    transform = transforms.Compose([\n",
        "        transforms.Resize((32, 32)),\n",
        "        transforms.Grayscale(),  # приводим к 1-канальному виду\n",
        "        transforms.ToTensor(),\n",
        "        transforms.Normalize((0.5,), (0.5,))\n",
        "    ])\n",
        "    dataset = SVHN(root='./data', split=split, transform=transform, download=True)\n",
        "    return DataLoader(dataset, batch_size=batch_size, shuffle=False)"
      ],
      "metadata": {
        "id": "IzaPc_qijCJd"
      },
      "id": "IzaPc_qijCJd",
      "execution_count": 10,
      "outputs": []
    },
    {
      "cell_type": "code",
      "source": [
        "# models.py\n",
        "import torch.nn as nn\n",
        "import torch.nn.functional as F\n",
        "\n",
        "class SimpleCNN(nn.Module):\n",
        "    def __init__(self, num_classes=10):\n",
        "        super().__init__()\n",
        "        self.conv1 = nn.Conv2d(1, 32, 5)\n",
        "        self.pool = nn.MaxPool2d(2)\n",
        "        self.conv2 = nn.Conv2d(32, 64, 5)\n",
        "        self.fc1 = nn.Linear(64 * 5 * 5, 256)\n",
        "        self.fc2 = nn.Linear(256, num_classes)\n",
        "\n",
        "    def forward(self, x):\n",
        "        # print(f\"fwd: {x.shape}\")\n",
        "        x = self.pool(F.relu(self.conv1(x)))  # [B, 32, 14, 14]\n",
        "        # print(f\"fwd: {x.shape}\")\n",
        "        x = self.pool(F.relu(self.conv2(x)))  # [B, 64, 5, 5]\n",
        "        # print(f\"fwd: {x.shape}\")\n",
        "        x = x.view(-1, 64 * 5 * 5)\n",
        "        # print(f\"fwd: {x.shape}\")\n",
        "        x = F.relu(self.fc1(x))\n",
        "        # print(f\"fwd: {x.shape}\")\n",
        "        return self.fc2(x)"
      ],
      "metadata": {
        "id": "FFAHdHkFjG0p"
      },
      "id": "FFAHdHkFjG0p",
      "execution_count": 42,
      "outputs": []
    },
    {
      "cell_type": "code",
      "source": [
        "# train_eval.py\n",
        "import torch\n",
        "import torch.nn as nn\n",
        "import torch.optim as optim\n",
        "from tqdm import tqdm\n",
        "\n",
        "def train(model, dataloader, device, epochs=5, lr=1e-3):\n",
        "    model.to(device)\n",
        "    optimizer = optim.Adam(model.parameters(), lr=lr)\n",
        "    criterion = nn.CrossEntropyLoss()\n",
        "\n",
        "    model.train()\n",
        "    for epoch in range(epochs):\n",
        "        running_loss = 0.0\n",
        "        for images, labels in tqdm(dataloader, desc=f\"Epoch {epoch+1}/{epochs}\"):\n",
        "            images, labels = images.to(device), labels.to(device)\n",
        "            # print(images.shape, labels.shape)\n",
        "\n",
        "            optimizer.zero_grad()\n",
        "            pred = model(images)\n",
        "            # print(pred.shape)\n",
        "            loss = criterion(pred, labels)\n",
        "            loss.backward()\n",
        "            optimizer.step()\n",
        "            running_loss += loss.item()\n",
        "        print(f\"Epoch {epoch+1} - Loss: {running_loss / len(dataloader):.4f}\")\n",
        "\n",
        "def evaluate(model, dataloader, device):\n",
        "    model.to(device)\n",
        "    model.eval()\n",
        "    correct, total = 0, 0\n",
        "    with torch.no_grad():\n",
        "        for images, labels in dataloader:\n",
        "            images, labels = images.to(device), labels.to(device)\n",
        "            outputs = model(images)\n",
        "            _, preds = outputs.max(1)\n",
        "            correct += (preds == labels).sum().item()\n",
        "            total += labels.size(0)\n",
        "    acc = 100 * correct / total\n",
        "    print(f\"Accuracy: {acc:.2f}%\")\n",
        "    return acc\n"
      ],
      "metadata": {
        "id": "6mgVJOYfjO0C"
      },
      "id": "6mgVJOYfjO0C",
      "execution_count": 43,
      "outputs": []
    },
    {
      "metadata": {
        "id": "364886e04a6fd0f0"
      },
      "cell_type": "code",
      "source": [
        "mnist_loader = get_mnist(train=True)\n",
        "mnist_test = get_mnist(train=False)\n",
        "svhn_test = get_svhn()\n",
        "model = SimpleCNN()"
      ],
      "id": "364886e04a6fd0f0",
      "outputs": [],
      "execution_count": 44
    },
    {
      "metadata": {
        "id": "dbaea7ba9a7bf3ab"
      },
      "cell_type": "markdown",
      "source": [
        "Обучение на MNIST (и проверка на MNIST и SVHN)"
      ],
      "id": "dbaea7ba9a7bf3ab"
    },
    {
      "metadata": {
        "id": "e8a4c8e673c3a99e",
        "outputId": "f1ad5a82-b5cb-45a0-94bd-246e0b0802f3",
        "colab": {
          "base_uri": "https://localhost:8080/"
        }
      },
      "cell_type": "code",
      "source": [
        "train(model, mnist_loader, device, epochs=10)"
      ],
      "id": "e8a4c8e673c3a99e",
      "outputs": [
        {
          "output_type": "stream",
          "name": "stderr",
          "text": [
            "Epoch 1/10: 100%|██████████| 469/469 [00:17<00:00, 27.54it/s]\n"
          ]
        },
        {
          "output_type": "stream",
          "name": "stdout",
          "text": [
            "Epoch 1 - Loss: 0.1650\n"
          ]
        },
        {
          "output_type": "stream",
          "name": "stderr",
          "text": [
            "Epoch 2/10: 100%|██████████| 469/469 [00:18<00:00, 25.74it/s]\n"
          ]
        },
        {
          "output_type": "stream",
          "name": "stdout",
          "text": [
            "Epoch 2 - Loss: 0.0442\n"
          ]
        },
        {
          "output_type": "stream",
          "name": "stderr",
          "text": [
            "Epoch 3/10: 100%|██████████| 469/469 [00:16<00:00, 27.79it/s]\n"
          ]
        },
        {
          "output_type": "stream",
          "name": "stdout",
          "text": [
            "Epoch 3 - Loss: 0.0288\n"
          ]
        },
        {
          "output_type": "stream",
          "name": "stderr",
          "text": [
            "Epoch 4/10: 100%|██████████| 469/469 [00:17<00:00, 26.75it/s]\n"
          ]
        },
        {
          "output_type": "stream",
          "name": "stdout",
          "text": [
            "Epoch 4 - Loss: 0.0236\n"
          ]
        },
        {
          "output_type": "stream",
          "name": "stderr",
          "text": [
            "Epoch 5/10: 100%|██████████| 469/469 [00:16<00:00, 27.71it/s]\n"
          ]
        },
        {
          "output_type": "stream",
          "name": "stdout",
          "text": [
            "Epoch 5 - Loss: 0.0163\n"
          ]
        },
        {
          "output_type": "stream",
          "name": "stderr",
          "text": [
            "Epoch 6/10: 100%|██████████| 469/469 [00:17<00:00, 27.30it/s]\n"
          ]
        },
        {
          "output_type": "stream",
          "name": "stdout",
          "text": [
            "Epoch 6 - Loss: 0.0144\n"
          ]
        },
        {
          "output_type": "stream",
          "name": "stderr",
          "text": [
            "Epoch 7/10: 100%|██████████| 469/469 [00:17<00:00, 26.97it/s]\n"
          ]
        },
        {
          "output_type": "stream",
          "name": "stdout",
          "text": [
            "Epoch 7 - Loss: 0.0124\n"
          ]
        },
        {
          "output_type": "stream",
          "name": "stderr",
          "text": [
            "Epoch 8/10: 100%|██████████| 469/469 [00:16<00:00, 27.70it/s]\n"
          ]
        },
        {
          "output_type": "stream",
          "name": "stdout",
          "text": [
            "Epoch 8 - Loss: 0.0091\n"
          ]
        },
        {
          "output_type": "stream",
          "name": "stderr",
          "text": [
            "Epoch 9/10: 100%|██████████| 469/469 [00:17<00:00, 26.21it/s]\n"
          ]
        },
        {
          "output_type": "stream",
          "name": "stdout",
          "text": [
            "Epoch 9 - Loss: 0.0098\n"
          ]
        },
        {
          "output_type": "stream",
          "name": "stderr",
          "text": [
            "Epoch 10/10: 100%|██████████| 469/469 [00:16<00:00, 27.96it/s]"
          ]
        },
        {
          "output_type": "stream",
          "name": "stdout",
          "text": [
            "Epoch 10 - Loss: 0.0063\n"
          ]
        },
        {
          "output_type": "stream",
          "name": "stderr",
          "text": [
            "\n"
          ]
        }
      ],
      "execution_count": 45
    },
    {
      "metadata": {
        "id": "ed79b4dc8769199",
        "outputId": "d8500438-43a1-4411-b9a6-5f00451af2c6",
        "colab": {
          "base_uri": "https://localhost:8080/"
        }
      },
      "cell_type": "code",
      "source": [
        "print(\"Evaluation on MNIST (same domain):\")\n",
        "evaluate(model, mnist_test, device)"
      ],
      "id": "ed79b4dc8769199",
      "outputs": [
        {
          "output_type": "stream",
          "name": "stdout",
          "text": [
            "Evaluation on MNIST (same domain):\n",
            "Accuracy: 99.26%\n"
          ]
        },
        {
          "output_type": "execute_result",
          "data": {
            "text/plain": [
              "99.26"
            ]
          },
          "metadata": {},
          "execution_count": 46
        }
      ],
      "execution_count": 46
    },
    {
      "metadata": {
        "id": "cec08d88602d7d6b",
        "outputId": "868461e7-c13f-4f7d-ad35-57dc5d1c9cf5",
        "colab": {
          "base_uri": "https://localhost:8080/"
        }
      },
      "cell_type": "code",
      "source": [
        "print(\"Evaluation on SVHN (cross-domain):\")\n",
        "evaluate(model, svhn_test, device)"
      ],
      "id": "cec08d88602d7d6b",
      "outputs": [
        {
          "output_type": "stream",
          "name": "stdout",
          "text": [
            "Evaluation on SVHN (cross-domain):\n",
            "Accuracy: 37.31%\n"
          ]
        },
        {
          "output_type": "execute_result",
          "data": {
            "text/plain": [
              "37.30792870313461"
            ]
          },
          "metadata": {},
          "execution_count": 47
        }
      ],
      "execution_count": 47
    },
    {
      "cell_type": "code",
      "source": [],
      "metadata": {
        "id": "5zt4-VU-m6aU"
      },
      "id": "5zt4-VU-m6aU",
      "execution_count": null,
      "outputs": []
    }
  ],
  "metadata": {
    "kernelspec": {
      "display_name": "Python 3",
      "name": "python3"
    },
    "language_info": {
      "codemirror_mode": {
        "name": "ipython",
        "version": 2
      },
      "file_extension": ".py",
      "mimetype": "text/x-python",
      "name": "python",
      "nbconvert_exporter": "python",
      "pygments_lexer": "ipython2",
      "version": "2.7.6"
    },
    "colab": {
      "provenance": [],
      "gpuType": "T4"
    },
    "accelerator": "GPU"
  },
  "nbformat": 4,
  "nbformat_minor": 5
}