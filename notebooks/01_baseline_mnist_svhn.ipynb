{
 "cells": [
  {
   "cell_type": "code",
   "id": "initial_id",
   "metadata": {
    "collapsed": true
   },
   "source": [
    "from src.datasets import get_mnist, get_svhn\n",
    "from src.models import SimpleCNN\n",
    "from src.train_eval import train, evaluate\n",
    "\n",
    "import torch\n",
    "device = torch.device(\"cuda\" if torch.cuda.is_available() else \"cpu\")\n",
    "device"
   ],
   "outputs": [],
   "execution_count": null
  },
  {
   "metadata": {},
   "cell_type": "markdown",
   "source": "Загрузка датасетов и модельки",
   "id": "3d1a0d6a817e42b2"
  },
  {
   "metadata": {},
   "cell_type": "code",
   "source": [
    "mnist_loader = get_mnist(train=True)\n",
    "mnist_test = get_mnist(train=False)\n",
    "svhn_test = get_svhn()\n",
    "model = SimpleCNN()"
   ],
   "id": "364886e04a6fd0f0",
   "outputs": [],
   "execution_count": null
  },
  {
   "metadata": {},
   "cell_type": "markdown",
   "source": "Обучение на MNIST (и проверка на MNIST и SVHN)",
   "id": "dbaea7ba9a7bf3ab"
  },
  {
   "metadata": {},
   "cell_type": "code",
   "source": "train(model, mnist_loader, device, epochs=10)",
   "id": "e8a4c8e673c3a99e",
   "outputs": [],
   "execution_count": null
  },
  {
   "metadata": {},
   "cell_type": "code",
   "source": [
    "print(\"Evaluation on MNIST (same domain):\")\n",
    "evaluate(model, mnist_test, device)"
   ],
   "id": "ed79b4dc8769199",
   "outputs": [],
   "execution_count": null
  },
  {
   "metadata": {},
   "cell_type": "code",
   "source": [
    "print(\"Evaluation on SVHN (cross-domain):\")\n",
    "evaluate(model, svhn_test, device)"
   ],
   "id": "cec08d88602d7d6b",
   "outputs": [],
   "execution_count": null
  }
 ],
 "metadata": {
  "kernelspec": {
   "display_name": "Python 3",
   "language": "python",
   "name": "python3"
  },
  "language_info": {
   "codemirror_mode": {
    "name": "ipython",
    "version": 2
   },
   "file_extension": ".py",
   "mimetype": "text/x-python",
   "name": "python",
   "nbconvert_exporter": "python",
   "pygments_lexer": "ipython2",
   "version": "2.7.6"
  }
 },
 "nbformat": 4,
 "nbformat_minor": 5
}
